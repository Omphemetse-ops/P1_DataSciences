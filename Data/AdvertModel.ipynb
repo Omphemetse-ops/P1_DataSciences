{
 "cells": [
  {
   "cell_type": "code",
   "execution_count": 1,
   "id": "d3b4f1f9",
   "metadata": {},
   "outputs": [],
   "source": [
    "import pandas as pd\n",
    "import numpy as np\n",
    "import matplotlib.pyplot as plt"
   ]
  },
  {
   "cell_type": "code",
   "execution_count": 2,
   "id": "b14dbe39",
   "metadata": {},
   "outputs": [
    {
     "name": "stdout",
     "output_type": "stream",
     "text": [
      "      TV  Radio  Newspaper  Sales\n",
      "0  230.1   37.8       69.2   22.1\n",
      "1   44.5   39.3       45.1   10.4\n",
      "2   17.2   45.9       69.3   12.0\n",
      "3  151.5   41.3       58.5   16.5\n",
      "4  180.8   10.8       58.4   17.9\n",
      "5    8.7   48.9       75.0    7.2\n",
      "6   57.5   32.8       23.5   11.8\n",
      "7  120.2   19.6       11.6   13.2\n",
      "8    8.6    2.1        1.0    4.8\n",
      "9  199.8    2.6       21.2   15.6\n"
     ]
    }
   ],
   "source": [
    "OpenFile = pd.read_csv('advertising.csv')\n",
    "FirstTen = OpenFile.head(10)\n",
    "print(FirstTen)"
   ]
  },
  {
   "cell_type": "code",
   "execution_count": 3,
   "id": "d51915a8",
   "metadata": {},
   "outputs": [
    {
     "name": "stdout",
     "output_type": "stream",
     "text": [
      "TV           0\n",
      "Radio        0\n",
      "Newspaper    0\n",
      "Sales        0\n",
      "dtype: int64\n"
     ]
    }
   ],
   "source": [
    "NumMiss = OpenFile.isnull().sum()\n",
    "print(NumMiss)"
   ]
  },
  {
   "cell_type": "code",
   "execution_count": null,
   "id": "b5bc7717",
   "metadata": {},
   "outputs": [],
   "source": []
  }
 ],
 "metadata": {
  "kernelspec": {
   "display_name": "Python 3 (ipykernel)",
   "language": "python",
   "name": "python3"
  },
  "language_info": {
   "codemirror_mode": {
    "name": "ipython",
    "version": 3
   },
   "file_extension": ".py",
   "mimetype": "text/x-python",
   "name": "python",
   "nbconvert_exporter": "python",
   "pygments_lexer": "ipython3",
   "version": "3.11.5"
  }
 },
 "nbformat": 4,
 "nbformat_minor": 5
}
