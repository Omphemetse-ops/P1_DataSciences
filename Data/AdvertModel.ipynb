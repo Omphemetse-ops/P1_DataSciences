{
 "cells": [
  {
   "cell_type": "code",
   "execution_count": null,
   "id": "2f2906ad",
   "metadata": {},
   "outputs": [],
   "source": [
    "import pandas as pd\n",
    "import numpy as np\n",
    "import matplotlib.pyplot as plt"
   ]
  },
  {
   "cell_type": "code",
   "execution_count": null,
   "id": "56b393cf",
   "metadata": {},
   "outputs": [],
   "source": [
    "OpenFile = pd.read_csv('advertising.csv')\n",
    "FirstTen = OpenFile.head(10)\n",
    "print(FirstTen)"
   ]
  },
  {
   "cell_type": "code",
   "execution_count": null,
   "id": "60d460a8",
   "metadata": {},
   "outputs": [],
   "source": [
    "NumMiss = OpenFile.isnull().sum()\n",
    "print(NumMiss)"
   ]
  },
  {
   "cell_type": "code",
   "execution_count": null,
   "id": "4396520d",
   "metadata": {},
   "outputs": [],
   "source": [
    "X = OpenFile.iloc[:, :-1].values\n",
    "Y = OpenFile.iloc[:, -1].values"
   ]
  },
  {
   "cell_type": "code",
   "execution_count": null,
   "id": "843bf308",
   "metadata": {},
   "outputs": [],
   "source": []
  }
 ],
 "metadata": {
  "kernelspec": {
   "display_name": "Python 3 (ipykernel)",
   "language": "python",
   "name": "python3"
  },
  "language_info": {
   "codemirror_mode": {
    "name": "ipython",
    "version": 3
   },
   "file_extension": ".py",
   "mimetype": "text/x-python",
   "name": "python",
   "nbconvert_exporter": "python",
   "pygments_lexer": "ipython3",
   "version": "3.11.5"
  }
 },
 "nbformat": 4,
 "nbformat_minor": 5
}
